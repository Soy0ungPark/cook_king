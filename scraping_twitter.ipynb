{
 "cells": [
  {
   "cell_type": "code",
   "execution_count": 6,
   "metadata": {},
   "outputs": [],
   "source": [
    "## 터미널에 ##\n",
    "## pip install snscrape ##\n",
    "## pip install pandas 입력 및 실행하여 패키지 설치 후 코드를 실행해주세요 ##\n",
    "\n",
    "import snscrape.modules.twitter as sntwitter\n",
    "import pandas as pd"
   ]
  },
  {
   "cell_type": "code",
   "execution_count": 7,
   "metadata": {},
   "outputs": [],
   "source": [
    "#query 부분 검색어 반드시 바꿔주기\n",
    "#https://twitter-michelin-guide.netlify.app/에서 그룹 검색-지역 검색 후 트위터에 뜨는 검색어로 query를 변경해주세요\n",
    "\n",
    "query = \"합정#몬베베가_몬베베에게_추천하는_맛집 OR #셔누_넌이미먹었겠지만또먹어야겠지 OR #민혁_너는이미북마크해놨겠지 OR #기현_너는맘마먹고다시시작하겠지 OR #채형원_너는세입도못먹겠지  OR #주헌_너는한입가득못먹겠지 OR #임창균_너는한끼뚝닭먹겠지\"\n"
   ]
  },
  {
   "cell_type": "code",
   "execution_count": 8,
   "metadata": {},
   "outputs": [],
   "source": [
    "tweet_list = []  #데이터 프레임을 만들기 위한 빈 리스트 지정\n",
    "limit = 1000 #트위터 글을 1000개까지만 가져오도록 설정\n",
    "\n",
    "for tweet in sntwitter.TwitterSearchScraper(query).get_items():\n",
    "\n",
    "    if len(tweet_list) == limit: #트위터 글이 1000개 이상인 경우 트위터 글을 더 이상 가져오지 않음\n",
    "        break\n",
    "    else:\n",
    "        tweet_list.append([tweet.date, tweet.user.username, tweet.user.displayname, tweet.content, tweet.url])\n",
    "        \n",
    "        ## 이 코드로 읽어올 수 있는 것 ##\n",
    "        # 트위터 글 날짜\n",
    "        # 유저 아이디\n",
    "        # 유저 닉네임\n",
    "        # 트위터 글\n",
    "        # 트위터 링크"
   ]
  },
  {
   "cell_type": "code",
   "execution_count": 9,
   "metadata": {},
   "outputs": [
    {
     "name": "stdout",
     "output_type": "stream",
     "text": [
      "                         Date             User Nickname  \\\n",
      "0   2022-10-09 10:36:09+00:00  foundinthedream      곽나물   \n",
      "1   2022-10-08 11:26:31+00:00      HappytoDieP     향쪽..   \n",
      "2   2022-10-01 08:02:33+00:00       imimgguggu       꾸꾸   \n",
      "3   2022-09-24 15:43:22+00:00          egg1ife     🌊에라🫧   \n",
      "4   2022-09-19 03:04:21+00:00         momiizii     ෆ미지ෆ   \n",
      "..                        ...              ...      ...   \n",
      "181 2020-03-07 11:22:30+00:00           MX_2MH       동글   \n",
      "182 2020-01-17 16:16:57+00:00   hey_minyeogang     동구래미   \n",
      "183 2020-01-12 09:54:47+00:00     hangbokhaja7        K   \n",
      "184 2020-01-09 12:09:32+00:00       joeun_feel    강력접챠췌   \n",
      "185 2020-01-03 19:41:34+00:00          NU2NIM_        누   \n",
      "\n",
      "                                                 Tweet  \\\n",
      "0    #몬베베가_몬베베에게_추천하는_맛집\\n📍합정 썬키친\\n✔️마라 볶음면\\n✔️닭허벅다...   \n",
      "1    #몬베베가_몬베베에게_추천하는_맛집\\n#임창균_너는한끼뚝닭먹겠지\\n\\n합정 썬키친\\...   \n",
      "2    합정 썬키친 \\n\\n꼬옥 … 꼬옥 …..먹어주면되 ….\\n\\n고등어 덮밥 미쳐씀 사...   \n",
      "3    오늘 제가 갔던 맛집 세 군데를 소개합니다(진실로오늘하루에다갔다옴)\\n비밀로하고 싶...   \n",
      "4    미지쨩은 포카를 좀 들고 다니시길...💤\\n\\n📍건대 메이빌\\n양 많아서 남김\\n\\...   \n",
      "..                                                 ...   \n",
      "181  #몬베베가_몬베베에게_추천하는_맛집\\n합정 맛집😆❤ 노래두 Best part 나와서...   \n",
      "182  #몬베베가_몬베베에게_추천하는_맛집\\n합정 크레이지 카츠\\n1시반에도 웨이팅이 있지...   \n",
      "183  #몬베베가_몬베베에게_추천하는_맛집\\n\\n합정/상수 지복\\n\\n하라빼꼬였다가 이름이...   \n",
      "184  #몬베베가_몬베베에게_추천하는_맛집\\n\\n합정 카밀로라자네리아 \\n\\n마늘쫑이 들어...   \n",
      "185  합정 카밀로 라자네리아\\n이곳 라자냐가 세계최고ㅜㅜ 1번이랑 2번 라자냐만 먹어봤는...   \n",
      "\n",
      "                                                   URL  \n",
      "0    https://twitter.com/foundinthedream/status/157...  \n",
      "1    https://twitter.com/HappytoDieP/status/1578708...  \n",
      "2    https://twitter.com/imimgguggu/status/15761203...  \n",
      "3    https://twitter.com/egg1ife/status/15736996239...  \n",
      "4    https://twitter.com/momiizii/status/1571696670...  \n",
      "..                                                 ...  \n",
      "181  https://twitter.com/MX_2MH/status/123625087084...  \n",
      "182  https://twitter.com/hey_minyeogang/status/1218...  \n",
      "183  https://twitter.com/hangbokhaja7/status/121629...  \n",
      "184  https://twitter.com/joeun_feel/status/12152442...  \n",
      "185  https://twitter.com/NU2NIM_/status/12131836426...  \n",
      "\n",
      "[186 rows x 5 columns]\n"
     ]
    }
   ],
   "source": [
    "#스크래핑한 트위터 정보를 데이터 프레임으로 만들기\n",
    "df = pd.DataFrame(tweet_list, columns = ['Date', 'User', 'Nickname', 'Tweet', 'URL'])\n",
    "\n",
    "#만든 데이터 프레임 보여주기\n",
    "print(df)"
   ]
  },
  {
   "cell_type": "code",
   "execution_count": 10,
   "metadata": {},
   "outputs": [],
   "source": [
    "#csv로 저장\n",
    "#반드시 저장명을 검색어를 바꿀때마다 변경해주세요 (변경하지 않으면 기존 파일을 덮어씁니다)\n",
    "df.to_csv('마포_합정-몬스타엑스.csv', encoding='utf-8-sig') #한글이 깨지므로 반드시 인코딩 형식 설정"
   ]
  }
 ],
 "metadata": {
  "kernelspec": {
   "display_name": "Python 3.10.7 64-bit (microsoft store)",
   "language": "python",
   "name": "python3"
  },
  "language_info": {
   "codemirror_mode": {
    "name": "ipython",
    "version": 3
   },
   "file_extension": ".py",
   "mimetype": "text/x-python",
   "name": "python",
   "nbconvert_exporter": "python",
   "pygments_lexer": "ipython3",
   "version": "3.10.8"
  },
  "orig_nbformat": 4,
  "vscode": {
   "interpreter": {
    "hash": "9d1cf9d9f5f50cd3edb1c6604aa91d17e816ded83f87d58e073c487b959b7426"
   }
  }
 },
 "nbformat": 4,
 "nbformat_minor": 2
}
